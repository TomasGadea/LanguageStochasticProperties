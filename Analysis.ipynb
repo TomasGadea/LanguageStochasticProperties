{
 "cells": [
  {
   "cell_type": "markdown",
   "metadata": {},
   "source": [
    "<h1 align=\"center\">LABORATORI 1<br><br> PROPIETATS ESTOCÀSTIQUES DEL LLENGUATGE NATURAL<br></h1>"
   ]
  },
  {
   "cell_type": "markdown",
   "metadata": {},
   "source": [
    "Inicialitzacions. Si algun package no s'importa bé fer \"pip install package\" a la línia de comandes."
   ]
  },
  {
   "cell_type": "code",
   "execution_count": 1,
   "metadata": {},
   "outputs": [
    {
     "data": {
      "text/plain": [
       "'/Users/tomas.gadea/tomasgadea/ACADEMIC/GCED/q3/TEOI/NLP-StochasticProperties'"
      ]
     },
     "execution_count": 1,
     "metadata": {},
     "output_type": "execute_result"
    }
   ],
   "source": [
    "%matplotlib inline\n",
    "import matplotlib.pyplot as plt\n",
    "from collections import Counter\n",
    "from math import log2, log, sqrt, inf\n",
    "from random import choice, choices\n",
    "import numpy as np\n",
    "from prettytable import PrettyTable\n",
    "import os\n",
    "os.getcwd()"
   ]
  },
  {
   "cell_type": "markdown",
   "metadata": {},
   "source": [
    "S'han proporcionat textos de prova en una carpeta de nom \"textos\". Per llegir-los s'ha de posar el directori de treball en aquesta carpeta"
   ]
  },
  {
   "cell_type": "code",
   "execution_count": 2,
   "metadata": {},
   "outputs": [
    {
     "data": {
      "text/plain": [
       "'/Users/tomas.gadea/tomasgadea/ACADEMIC/GCED/q3/TEOI/NLP-StochasticProperties/texts'"
      ]
     },
     "execution_count": 2,
     "metadata": {},
     "output_type": "execute_result"
    }
   ],
   "source": [
    "os.chdir(\"./texts\");\n",
    "os.getcwd()"
   ]
  },
  {
   "cell_type": "markdown",
   "metadata": {},
   "source": [
    "Introducció de diferents textos.\n",
    "\n",
    "N'hi ha sis que són novel·les escrites en sis llengües diferents: català, castellà, francès, italià, anglès i alemany; han estat simplificats de manera que només apareixen lletres minúscules -sense accents ni puntuació- i l'espai.\n",
    "\n",
    "Hi ha un text en castellà sense simplificar: el primer capítol del Quixot.\n",
    "\n",
    "Hi ha uns altres tres textos curts."
   ]
  },
  {
   "cell_type": "code",
   "execution_count": 3,
   "metadata": {},
   "outputs": [],
   "source": [
    "txt_cat = open(\"cat.txt\",\"r\",encoding=\"utf-8\").read();\n",
    "txt_cas = open(\"cas.txt\",\"r\",encoding=\"utf-8\").read();\n",
    "txt_fra = open(\"fra.txt\",\"r\",encoding=\"utf-8\").read();\n",
    "txt_ita = open(\"ita.txt\",\"r\",encoding=\"utf-8\").read();\n",
    "txt_ang = open(\"ang.txt\",\"r\",encoding=\"utf-8\").read();\n",
    "txt_ale = open(\"ale.txt\",\"r\",encoding=\"utf-8\").read();\n",
    "txt = [txt_cat,txt_cas,txt_fra,txt_ita,txt_ang,txt_ale]; # Vector contenint tots sis textos\n",
    "def idioma(txt): # Funció que retorna l'idioma de cada text\n",
    "    if txt == txt_cat:\n",
    "        return \"català\";\n",
    "    elif txt == txt_cas:\n",
    "        return \"castellà\";\n",
    "    elif txt == txt_fra:\n",
    "        return \"francès\";\n",
    "    elif txt == txt_ita:\n",
    "        return \"italià\";\n",
    "    elif txt == txt_ang:\n",
    "        return \"anglès\";\n",
    "    elif txt == txt_ale:\n",
    "        return \"alemany\";\n",
    "txt_quijote = open(\"quijote-1.txt\",\"r\",encoding=\"utf-8\").read();\n",
    "txt_sj=\"Setze jutges d'un jutjat mengen fetge d'un penjat.\"\n",
    "txt_hr=\"All human beings are born free and equal in dignity and rights. They are endowed with reason and conscience and should act towards one another in a spirit of brotherhood.\"\n",
    "txt_ae=\"Hay dos cosas que son infinitas: el universo y la estupidez humana; de la primera no estoy muy seguro.\""
   ]
  },
  {
   "cell_type": "markdown",
   "metadata": {},
   "source": [
    "Per exemple, el text en català és la novel·la \"Paulina Buxareu\" de Josep Maria de Sagarra:"
   ]
  },
  {
   "cell_type": "code",
   "execution_count": 4,
   "metadata": {},
   "outputs": [
    {
     "data": {
      "text/plain": [
       "'paulina buxareu josep maria de sagarra primera part i jo vaig coneixer en victor buxareu i buxareu en un dolc poblet de muntanya on em deixo caure gairebe tots els istius en aquest poblet no hi tinc casa propia ni llogada ni una llenqueta de terra ni una tomaquera tan sols no mhi lliga cap interes material per petit que sigui aixo es causa que el seu record no faci trontollar el meu egoisme ni em treu la son el presseguer exposat a la golafreria publica ni el mestre de cases que no fineix mai la'"
      ]
     },
     "execution_count": 4,
     "metadata": {},
     "output_type": "execute_result"
    }
   ],
   "source": [
    "txt_cat[:500]"
   ]
  },
  {
   "cell_type": "markdown",
   "metadata": {},
   "source": [
    "Mida (nombre total de lletres comptant espais), nombre de paraules i longitud mitjana de les paraules en els sis textos."
   ]
  },
  {
   "cell_type": "code",
   "execution_count": 5,
   "metadata": {},
   "outputs": [
    {
     "name": "stdout",
     "output_type": "stream",
     "text": [
      "+----------+-----------+------------+--------------+\n",
      "|  Idioma  | # lletres | # paraules | long mitjana |\n",
      "+----------+-----------+------------+--------------+\n",
      "|  català  |   255911  |   47391    |   4.39999    |\n",
      "| castellà |  2021834  |   381208   |   4.30376    |\n",
      "| francès  |   624708  |   111874   |   4.58403    |\n",
      "|  italià  |  1407864  |   266030   |   4.29212    |\n",
      "|  anglès  |  1168421  |   216026   |   4.40871    |\n",
      "| alemany  |  1447031  |   228385   |   5.33593    |\n",
      "+----------+-----------+------------+--------------+\n"
     ]
    }
   ],
   "source": [
    "taula = PrettyTable()\n",
    "taula.field_names = [\"Idioma\", \"# lletres\", \"# paraules\", \"long mitjana\"]\n",
    "for x in txt:\n",
    "    taula.add_row([idioma(x),len(x),len(x.split()),round(len(x.replace(' ',''))/len(x.split()),5)])\n",
    "print(taula)"
   ]
  },
  {
   "cell_type": "markdown",
   "metadata": {},
   "source": [
    "<h2 align=\"center\">Es crea un model estocàstic d'una llengua a partir d'un text de mostra<br><br>\n",
    "    Variables aleatòries definides a partir del text:</h2>\n",
    "\n",
    "<ul>\n",
    "<li>$X$ és la variable aleatòria que pren valors en $\\mathcal X$ que agafa una lletra del text aleatoriament.</li>\n",
    "<li>$X_n$ és la variable aleatòria que pren valors en $\\mathcal X^n$ que agafa $n$ lletres consecutives del text aleatòriament. La variable $X$ és simplement $X_1$.</li>\n",
    "<li>$Y_r$ i $Z_s$ agafen $r$ i $s$ lletres consecutives del text, les segones a continuació de les primeres, de manera que el vector $(Y_r,Z_s)$ és el mateix que $X_{r+s}$.</li>\n",
    "</ul>\n",
    "\n",
    "CONVENI: per tal que les variables vectorials puguin agafar valors que comencen en qualsevol lletra del text se suposa que en acabar el text torna a començar pel principi. Això equival a considerar un \"text infinit\" format concatenant el text donat amb si mateix indefinidament."
   ]
  },
  {
   "cell_type": "markdown",
   "metadata": {},
   "source": [
    "Les funcions següents calculen la probabilitat $\\operatorname{Pr}(X_n=x)$ per a una paraula $x\\in\\mathcal X^n$ i la probabilitat condicionada $\\operatorname{Pr}(Z_s=z|Y_r=y)$ per a paraules $y\\in\\mathcal X^r$ i $z\\in\\mathcal X^s$. "
   ]
  },
  {
   "cell_type": "code",
   "execution_count": 6,
   "metadata": {},
   "outputs": [],
   "source": [
    "def probX(txt,x):\n",
    "    t = txt+txt[:len(x)-1]; #s'afegeix al final les lletres necessàries per poder calcular X_n\n",
    "    return t.count(x)/len(txt)\n",
    "\n",
    "def cond_probZY(txt,y,z):\n",
    "    w = y+z; # es vol saber quantes vegades z apareix a continuació de y; per això s'ha de buscar la paraula y+z\n",
    "    t = txt+txt[:len(w)-1];\n",
    "    ny = t.count(y); \n",
    "    if ny == 0:\n",
    "        return 0; # si Pr(Y=y)=0 la probabilitat condicionada es defineix com a zero\n",
    "    else:\n",
    "        return t.count(w)/ny"
   ]
  },
  {
   "cell_type": "markdown",
   "metadata": {},
   "source": [
    "Exemple: probabilitat (en percentatge) d'un bloc en els diferents idiomes"
   ]
  },
  {
   "cell_type": "code",
   "execution_count": 11,
   "metadata": {},
   "outputs": [
    {
     "name": "stdout",
     "output_type": "stream",
     "text": [
      "+----------+-------------------+---------------------+-----------------------+----------------------+\n",
      "|  idioma  |         a         |          j          |           th          |          je          |\n",
      "+----------+-------------------+---------------------+-----------------------+----------------------+\n",
      "|  català  | 11.69078312382039 | 0.24852390088741788 |  0.015630434018076598 | 0.014067390616268938 |\n",
      "| castellà | 9.916689500720633 |  0.5208142706077749 |          0.0          | 0.07389330676999199  |\n",
      "| francès  | 7.218252367506099 | 0.46149561074934214 |  0.042099668965340606 |  0.2284267209640344  |\n",
      "|  italià  |  9.39366302426939 |         0.0         | 0.0022729468187268087 |         0.0          |\n",
      "|  anglès  |  6.67122552573088 | 0.09277477895381887 |   2.686788409314793   | 0.020797298234112534 |\n",
      "| alemany  | 5.249161904617109 |  0.193914297620438  |  0.06413131439478491  | 0.06295649505781148  |\n",
      "+----------+-------------------+---------------------+-----------------------+----------------------+\n"
     ]
    }
   ],
   "source": [
    "taula = PrettyTable()\n",
    "blocs = [\"a\",\"j\",\"th\",\"je\"]\n",
    "taula.field_names = [\"idioma\"] + blocs\n",
    "for x in txt:\n",
    "    taula.add_row([idioma(x)] + [100*probX(x,b) for b in blocs])\n",
    "print(taula)"
   ]
  },
  {
   "cell_type": "markdown",
   "metadata": {},
   "source": [
    "Exemple: probabilitat (en percentatge) que un bloc estigui a l'inici o al final d'una paraula en els diferents idiomes"
   ]
  },
  {
   "cell_type": "code",
   "execution_count": 13,
   "metadata": {},
   "outputs": [
    {
     "name": "stdout",
     "output_type": "stream",
     "text": [
      "+----------+--------------------+--------------------+-----+\n",
      "|  idioma  |         a          |         n          | ico |\n",
      "+----------+--------------------+--------------------+-----+\n",
      "|  català  | 8.294823911713195  | 3.325525943744593  | 0.0 |\n",
      "| castellà | 8.022391974984785  | 3.028530356131036  | 0.0 |\n",
      "| francès  | 7.333249906144412  | 2.629744176484259  | 0.0 |\n",
      "|  italià  | 7.3705418896974795 | 4.137848078426655  | 0.0 |\n",
      "|  anglès  | 11.062557284771279 | 2.2515808282336387 | 0.0 |\n",
      "| alemany  | 6.5433369091665385 | 3.390765593186943  | 0.0 |\n",
      "+----------+--------------------+--------------------+-----+\n",
      "+----------+--------------------+--------------------+--------------------+\n",
      "|  idioma  |         a          |         n          |        ico         |\n",
      "+----------+--------------------+--------------------+--------------------+\n",
      "|  català  | 46.426900193863226 | 22.00212992545261  |        4.0         |\n",
      "| castellà | 34.694936134344815 | 30.842274344843503 | 66.58130601792574  |\n",
      "| francès  | 20.20712749207194  | 22.328893501700975 |        0.0         |\n",
      "|  italià  |  42.4234404536862  | 24.423159544087543 | 61.346153846153854 |\n",
      "|  anglès  |  7.15348694001129  | 25.845075786426996 | 17.647058823529413 |\n",
      "| alemany  | 3.045143963031715  | 41.74191299939803  |         0          |\n",
      "+----------+--------------------+--------------------+--------------------+\n"
     ]
    }
   ],
   "source": [
    "taula = PrettyTable()\n",
    "blocs = [\"a\",\"n\",\"ico\"]\n",
    "taula.field_names = [\"idioma\"] + blocs\n",
    "for x in txt:\n",
    "    taula.add_row([idioma(x)]+[100*cond_probZY(x,\" \",b) for b in blocs])\n",
    "print(taula)\n",
    "taula = PrettyTable()\n",
    "blocs = [\"a\",\"n\",\"ico\"]\n",
    "taula.field_names = [\"idioma\"] + blocs\n",
    "for x in txt:\n",
    "    taula.add_row([idioma(x)]+[100*cond_probZY(x,b,\" \") for b in blocs])\n",
    "print(taula)"
   ]
  },
  {
   "cell_type": "markdown",
   "metadata": {},
   "source": [
    "Les funcions següents calculen les distribucions de probabilitat de les variables aleatòries $X_n$ i les variables condicionades $Z_s|Y_r=y$ per a $y\\in\\mathcal X^r$.\n",
    "\n",
    "Les distribucions de probabilitat duna variable $X$ que pren $k$ valors en el conjunt $\\mathcal X=\\{x_1,\\dots,x_k\\}$ es donen en forma d'una llista $[(x_1,n_1),...,(x_k,n_k)]$ que conté parells $(x_i,n_i)$ formats pels valors $x_i$ que pot prendre la variable i el nombre de vegades $n_i$ que pren cada valor. Així, la probabilitat que una variable $X$ prengui el valor $x_i$ és $$\\operatorname{Pr}(X=x_i)=\\frac{n_i}{\\sum_{j=1}^k n_j}.$$"
   ]
  },
  {
   "cell_type": "code",
   "execution_count": 14,
   "metadata": {},
   "outputs": [],
   "source": [
    "def varX(txt,n): #els paràmetres són el text i la mida n dels blocs de lletres consecutives que es consideren\n",
    "    p = txt+txt[:n-1]; # s'afegeixen lletres al final per poder tenir totes les paraules de mida n que comencen a txt\n",
    "    p = [p[i:i+n] for i in range(len(txt))]; # llista amb totes les paraules de mida n en el text\n",
    "    #print(p)\n",
    "    p = dict(Counter(p)); # usant Counter es crea un diccionari que a cada valor li fa correspondre el nombre de vegades que apareix\n",
    "    #print(p)\n",
    "    p = [(x,p[x]) for x in p]; # es converteix el diccionari en una llista\n",
    "    #print(p)\n",
    "    p.sort(); # s'ordena pels valors (primera component dels parells)\n",
    "    return p\n",
    "def cond_varZY(txt,s,y): #els paràmetres són el text, la paraula y respecte la que es condiciona i la mida s dels blocs que venen a continuació\n",
    "    n = s+len(y); p = txt+txt[:n-1];\n",
    "    p = [p[i:i+n] for i in range(len(txt))]; # paraules de mida n dins el text\n",
    "    p = [x for x in p if x[:len(y)] == y]; # se seleccionen només les que comencen per y\n",
    "    p = [x[-s:] for x in p]; # s'agafen les s últimes lletres\n",
    "    p = dict(Counter(p)); p = [(x,p[x]) for x in p]; p.sort();\n",
    "    return p"
   ]
  },
  {
   "cell_type": "markdown",
   "metadata": {},
   "source": [
    "Alguns exemples:"
   ]
  },
  {
   "cell_type": "code",
   "execution_count": 15,
   "metadata": {},
   "outputs": [
    {
     "name": "stdout",
     "output_type": "stream",
     "text": [
      "+------+---------------+------------------------+\n",
      "| bloc | # ocurrències |      probabilitat      |\n",
      "+------+---------------+------------------------+\n",
      "| ols  |       28      | 0.00010941303812653618 |\n",
      "| olt  |      235      | 0.0009182879985620001  |\n",
      "| olu  |       34      | 0.00013285868915365108 |\n",
      "| olv  |       2       | 7.815217009038298e-06  |\n",
      "| olz  |       2       | 7.815217009038298e-06  |\n",
      "| om   |      340      | 0.0013285868915365107  |\n",
      "| oma  |       40      | 0.00015630434018076598 |\n",
      "| omb  |       20      | 7.815217009038299e-05  |\n",
      "| ome  |      266      | 0.0010394238622020936  |\n",
      "+------+---------------+------------------------+\n"
     ]
    }
   ],
   "source": [
    "taula = PrettyTable()\n",
    "taula.field_names = [\"bloc\", \"# ocurrències\", \"probabilitat\",]\n",
    "for x in varX(txt_cat,3)[2000:2009]:\n",
    "    taula.add_row([x[0],x[1],x[1]/len(txt_cat)])\n",
    "print(taula)"
   ]
  },
  {
   "cell_type": "code",
   "execution_count": 17,
   "metadata": {},
   "outputs": [
    {
     "name": "stdout",
     "output_type": "stream",
     "text": [
      "+------+---------------+-----------------------+\n",
      "| bloc | # ocurrències |      probabilitat     |\n",
      "+------+---------------+-----------------------+\n",
      "|  al  |       2       | 7.815217009038298e-06 |\n",
      "|  cl  |       1       | 3.907608504519149e-06 |\n",
      "|  de  |       1       | 3.907608504519149e-06 |\n",
      "|  in  |       1       | 3.907608504519149e-06 |\n",
      "|  qu  |       1       | 3.907608504519149e-06 |\n",
      "| lin  |      478      | 0.0018678368651601533 |\n",
      "| pau  |       1       | 3.907608504519149e-06 |\n",
      "| sa   |       1       | 3.907608504519149e-06 |\n",
      "+------+---------------+-----------------------+\n"
     ]
    }
   ],
   "source": [
    "taula = PrettyTable()\n",
    "taula.field_names = [\"bloc\", \"# ocurrències\", \"probabilitat\",]\n",
    "for x in cond_varZY(txt_cat,3,\"pau\"):\n",
    "    taula.add_row([x[0],x[1],x[1]/len(txt_cat)])\n",
    "print(taula)"
   ]
  },
  {
   "cell_type": "markdown",
   "metadata": {},
   "source": [
    "<h2 align=\"center\">Histogrames de les variables aleatòries $X$<br></h2>"
   ]
  },
  {
   "cell_type": "markdown",
   "metadata": {},
   "source": [
    "Histogrames de les variables aleatòries $X$ corresponents a agafar una lletra aleatoriament. Per poder comparar-los bé es calculen sobre tots els textos amb el mateix alfabet. En aquest exemple es dibuixen els diagrames amb les lletres escrites en el mateix ordre."
   ]
  },
  {
   "cell_type": "code",
   "execution_count": 25,
   "metadata": {},
   "outputs": [
    {
     "data": {
      "image/png": "[encoded data removed]",
      "text/plain": [
       "<Figure size 1440x2160 with 6 Axes>"
      ]
     },
     "metadata": {
      "needs_background": "light"
     },
     "output_type": "display_data"
    }
   ],
   "source": [
    "def histograma(txt):\n",
    "    alf = [x for x in \"abcdefghijklmnopqrstuvwxyz\"];\n",
    "    p = [100*txt.count(x)/len(txt) for x in alf]; # les probabilitats es donen en termes de percentatge\n",
    "    plt.bar(range(len(alf)),p,tick_label=alf)\n",
    "\n",
    "plt.figure(figsize=(20,30))\n",
    "plt.subplot(631)\n",
    "histograma(txt[0])\n",
    "plt.title('Català');\n",
    "plt.subplot(632)\n",
    "histograma(txt[1])\n",
    "plt.title('Castellà');\n",
    "plt.subplot(633)\n",
    "histograma(txt[2])\n",
    "plt.title('Francès');\n",
    "plt.subplot(634)\n",
    "histograma(txt[3])\n",
    "plt.title('Anglès');\n",
    "plt.subplot(635)\n",
    "histograma(txt[4])\n",
    "plt.title('Alemany');\n",
    "plt.subplot(636)\n",
    "histograma(txt[5])\n",
    "plt.title('Italià');"
   ]
  },
  {
   "cell_type": "markdown",
   "metadata": {},
   "source": [
    "El mateix amb les variables $Z_1|Y_1={\\tt y}$."
   ]
  },
  {
   "cell_type": "code",
   "execution_count": 26,
   "metadata": {},
   "outputs": [
    {
     "data": {
      "image/png": "[encoded data removed]",
      "text/plain": [
       "<Figure size 1440x2160 with 6 Axes>"
      ]
     },
     "metadata": {
      "needs_background": "light"
     },
     "output_type": "display_data"
    }
   ],
   "source": [
    "def histograma(txt,y):\n",
    "    t = txt+txt[:1]; ny = txt.count(y);\n",
    "    alf = [x for x in \"abcdefghijklmnopqrstuvwxyz\"];\n",
    "    p = [100*txt.count(y+x)/ny for x in alf];\n",
    "    plt.bar(range(len(alf)),p,tick_label=alf)\n",
    "\n",
    "y = \"m\";\n",
    "plt.figure(figsize=(20,30))\n",
    "plt.subplot(631)\n",
    "histograma(txt[0],y)\n",
    "plt.title('Català');\n",
    "plt.subplot(632)\n",
    "histograma(txt[1],y)\n",
    "plt.title('Castellà');\n",
    "plt.subplot(633)\n",
    "histograma(txt[2],y)\n",
    "plt.title('Francès');\n",
    "plt.subplot(634)\n",
    "histograma(txt[3],y)\n",
    "plt.title('Anglès');\n",
    "plt.subplot(635)\n",
    "histograma(txt[4],y)\n",
    "plt.title('Alemany');\n",
    "plt.subplot(636)\n",
    "histograma(txt[5],y)\n",
    "plt.title('Italià');"
   ]
  },
  {
   "cell_type": "markdown",
   "metadata": {},
   "source": [
    "Ara es dibuixa l'histograma ordenant les lletres en ordre creixent de probabilitats."
   ]
  },
  {
   "cell_type": "code",
   "execution_count": 28,
   "metadata": {},
   "outputs": [
    {
     "data": {
      "image/png": "[encoded data removed]",
      "text/plain": [
       "<Figure size 1440x2160 with 6 Axes>"
      ]
     },
     "metadata": {
      "needs_background": "light"
     },
     "output_type": "display_data"
    }
   ],
   "source": [
    "def histograma(txt):\n",
    "    alf = [x for x in \"abcdefghijklmnopqrstuvwxyz\"];\n",
    "    p = [[100*txt.count(x)/len(txt),x] for x in alf];\n",
    "    p.sort();\n",
    "    alf = [x[1] for x in p];\n",
    "    p = [x[0] for x in p];\n",
    "    plt.bar(range(len(alf)),p,tick_label=alf)\n",
    "\n",
    "plt.figure(figsize=(20,30))\n",
    "plt.subplot(631)\n",
    "histograma(txt[0])\n",
    "plt.title('Català');\n",
    "plt.subplot(632)\n",
    "histograma(txt[1])\n",
    "plt.title('Castellà');\n",
    "plt.subplot(633)\n",
    "histograma(txt[2])\n",
    "plt.title('Francès');\n",
    "plt.subplot(634)\n",
    "histograma(txt[3])\n",
    "plt.title('Anglès');\n",
    "plt.subplot(635)\n",
    "histograma(txt[4])\n",
    "plt.title('Alemany');\n",
    "plt.subplot(636)\n",
    "histograma(txt[5])\n",
    "plt.title('Italià');"
   ]
  },
  {
   "cell_type": "markdown",
   "metadata": {},
   "source": [
    "Idem amb les condicionades."
   ]
  },
  {
   "cell_type": "code",
   "execution_count": 29,
   "metadata": {},
   "outputs": [
    {
     "data": {
      "image/png": "[encoded data removed]",
      "text/plain": [
       "<Figure size 1440x2160 with 6 Axes>"
      ]
     },
     "metadata": {
      "needs_background": "light"
     },
     "output_type": "display_data"
    }
   ],
   "source": [
    "def histograma(txt,y):\n",
    "    t = txt+txt[:1]; ny = txt.count(y);\n",
    "    alf = [x for x in \"abcdefghijklmnopqrstuvwxyz\"];\n",
    "    p = [[100*txt.count(y+x)/ny,x] for x in alf];\n",
    "    p.sort();\n",
    "    alf = [x[1] for x in p];\n",
    "    p = [x[0] for x in p];\n",
    "    plt.bar(range(len(alf)),p,tick_label=alf)\n",
    "\n",
    "y = \"m\";\n",
    "plt.figure(figsize=(20,30))\n",
    "plt.subplot(631)\n",
    "histograma(txt[0],y)\n",
    "plt.title('Català');\n",
    "plt.subplot(632)\n",
    "histograma(txt[1],y)\n",
    "plt.title('Castellà');\n",
    "plt.subplot(633)\n",
    "histograma(txt[2],y)\n",
    "plt.title('Francès');\n",
    "plt.subplot(634)\n",
    "histograma(txt[3],y)\n",
    "plt.title('Anglès');\n",
    "plt.subplot(635)\n",
    "histograma(txt[4],y)\n",
    "plt.title('Alemany');\n",
    "plt.subplot(636)\n",
    "histograma(txt[5],y)\n",
    "plt.title('Italià');"
   ]
  },
  {
   "cell_type": "markdown",
   "metadata": {},
   "source": [
    "<h2 align=\"center\">Comparació de les distribucions de $X$ per a diferents idiomes<br></h2>"
   ]
  },
  {
   "cell_type": "markdown",
   "metadata": {},
   "source": [
    "Comparació de distribucions de probabilitat.\n",
    "\n",
    "Es proposa fer servir dues funcions de comparació de distribucions de probabilitat\n",
    "$(p_1,...p_n)$ i $(q_1,...,q_n)$: la divergència de Kullback-Leibler, o entropia relativa, que apareix a les transparències de teoria (observeu que no és simètrica): $$\\sum p_i\\log\\frac{p_i}{q_i}$$ i la distància de Hellinger (simètrica): $$\\sum\\big(\\sqrt{p_i}-\\sqrt{q_i}\\big)^2.$$\n",
    "Se'n fan dues versions: en la primera es consideren les distribucions de probabilitat ordenades en funció dels valors de la variable (es comparen probabilitats de cada lletra); en la segona s'ordenen les distribucions per ordre creixent de probabilitats (això potser representa millor la estructura del procés que es vol estudiar, tot i que la interpretació és discutible); a més, en aquest segon cas s'eliminen els valors de probabilitat zero per a calcular la divergència."
   ]
  },
  {
   "cell_type": "markdown",
   "metadata": {},
   "source": [
    "<h4 style=\"color:red\">Exercici 1: programeu les funcions divKL, divKL_ord, distH i distH_ord que calculen les distàncies indicades. A continuació podreu calcular taules on veureu quins idiomes estan més a prop d'altres, segons les distàncies considerades i també segons si s'ordenen o no les probabilitats.</h4>"
   ]
  },
  {
   "cell_type": "code",
   "execution_count": 39,
   "metadata": {},
   "outputs": [],
   "source": [
    "def divKL(p,q):\n",
    "    n = len(p) # equivalentment len(q)\n",
    "    div = 0\n",
    "    for i in range(n):\n",
    "        if p[i] != 0 and q[i] != 0:\n",
    "            div += p[i] * log2(p[i]/q[i])\n",
    "    return div\n",
    "\n",
    "def divKL_ord(pp,qq):\n",
    "    n = len(pp) # equivalentment len(qq)\n",
    "    pp.sort()\n",
    "    qq.sort()\n",
    "    div = 0\n",
    "    for i in range(n):\n",
    "        if pp[i] != 0 and qq[i] != 0:\n",
    "            div += pp[i] * log2(pp[i]/qq[i])\n",
    "    return div\n",
    "\n",
    "def distH(p,q):\n",
    "    n = len(p) # equivalentment len(q)\n",
    "    dist = 0\n",
    "    for i in range(n):\n",
    "        dist += (sqrt(p[i]) - sqrt(q[i])) ** 2\n",
    "    return dist\n",
    "\n",
    "def distH_ord(pp,qq):\n",
    "    n = len(pp) # equivalentment len(qq)\n",
    "    pp.sort()\n",
    "    qq.sort()\n",
    "    dist = 0\n",
    "    for i in range(n):\n",
    "        dist += (sqrt(pp[i]) - sqrt(qq[i])) ** 2\n",
    "    return dist\n",
    "\n",
    "def compara(txt1,txt2,fun):\n",
    "    alf = [x for x in \"abcdefghijklmnopqrstuvwxyz \"];\n",
    "    p1 = [txt1.count(x)/len(txt1) for x in alf];\n",
    "    p2 = [txt2.count(x)/len(txt2) for x in alf];\n",
    "    div = fun(p1,p2);\n",
    "    return round(100*div,5)"
   ]
  },
  {
   "cell_type": "code",
   "execution_count": 40,
   "metadata": {},
   "outputs": [
    {
     "name": "stdout",
     "output_type": "stream",
     "text": [
      "+----------+----------+----------+----------+----------+----------+----------+\n",
      "|          |  català  | castellà | francès  |  italià  |  anglès  | alemany  |\n",
      "+----------+----------+----------+----------+----------+----------+----------+\n",
      "|  català  |   0.0    | 6.62874  | 3.61598  | 8.58891  | 19.71494 | 28.4883  |\n",
      "| castellà | 7.73744  |   0.0    | 8.61522  | 3.79887  | 19.97182 | 35.47906 |\n",
      "| francès  | 3.58544  | 8.75826  |   0.0    | 10.20879 | 18.20181 | 23.38951 |\n",
      "|  italià  | 7.38398  | 9.02484  |  9.388   |   0.0    | 16.35104 | 24.97143 |\n",
      "|  anglès  | 18.05652 | 41.4675  | 38.76888 | 6.17648  |   0.0    | 15.8405  |\n",
      "| alemany  | 20.23841 | 37.74494 | 38.30226 | 13.59026 | 13.34577 |   0.0    |\n",
      "+----------+----------+----------+----------+----------+----------+----------+\n",
      "+----------+---------+----------+---------+----------+---------+---------+\n",
      "|          |  català | castellà | francès |  italià  |  anglès | alemany |\n",
      "+----------+---------+----------+---------+----------+---------+---------+\n",
      "|  català  |   0.0   | 0.96986  | 2.27508 |  3.6675  | 3.67885 | 2.07844 |\n",
      "| castellà | 1.02719 |   0.0    | 2.11794 | 4.56038  | 2.76573 | 1.93417 |\n",
      "| francès  | 2.19015 |  2.2058  |   0.0   | 5.90361  | 3.43708 | 1.61484 |\n",
      "|  italià  | 1.99207 | 1.97792  | 3.98191 |   0.0    | 3.83732 | 3.96761 |\n",
      "|  anglès  | 3.63965 | 3.35295  | 4.04401 | 10.21834 |   0.0   | 2.40903 |\n",
      "| alemany  | 2.13815 | 2.01156  | 1.71476 | 9.00341  | 2.38254 |   0.0   |\n",
      "+----------+---------+----------+---------+----------+---------+---------+\n"
     ]
    }
   ],
   "source": [
    "taula = PrettyTable()\n",
    "taula.field_names = [\" \"] + [idioma(x) for x in txt]\n",
    "for x in txt:\n",
    "    taula.add_row([idioma(x)] + [compara(x,y,divKL) for y in txt])\n",
    "print(taula)\n",
    "taula = PrettyTable()\n",
    "taula.field_names = [\" \"] + [idioma(x) for x in txt]\n",
    "for x in txt:\n",
    "    taula.add_row([idioma(x)] + [compara(x,y,divKL_ord) for y in txt])\n",
    "print(taula)"
   ]
  },
  {
   "cell_type": "code",
   "execution_count": 38,
   "metadata": {},
   "outputs": [
    {
     "name": "stdout",
     "output_type": "stream",
     "text": [
      "+----------+----------+----------+---------+---------+---------+----------+\n",
      "|          |  català  | castellà | francès |  italià |  anglès | alemany  |\n",
      "+----------+----------+----------+---------+---------+---------+----------+\n",
      "|  català  |   0.0    | 2.38106  | 1.24507 | 2.73997 | 8.72717 | 10.24761 |\n",
      "| castellà | 2.38106  |   0.0    | 2.94732 | 3.95458 | 8.24528 | 11.06464 |\n",
      "| francès  | 1.24507  | 2.94732  |   0.0   |  3.7395 | 7.67912 | 8.32476  |\n",
      "|  italià  | 2.73997  | 3.95458  |  3.7395 |   0.0   | 7.87765 | 9.28252  |\n",
      "|  anglès  | 8.72717  | 8.24528  | 7.67912 | 7.87765 |   0.0   | 4.71398  |\n",
      "| alemany  | 10.24761 | 11.06464 | 8.32476 | 9.28252 | 4.71398 |   0.0    |\n",
      "+----------+----------+----------+---------+---------+---------+----------+\n",
      "+----------+---------+----------+---------+---------+---------+---------+\n",
      "|          |  català | castellà | francès |  italià |  anglès | alemany |\n",
      "+----------+---------+----------+---------+---------+---------+---------+\n",
      "|  català  |   0.0   | 0.34524  | 0.77299 | 0.89177 | 1.39986 | 0.75106 |\n",
      "| castellà | 0.34524 |   0.0    |  0.7438 | 1.03374 | 1.04252 | 0.68671 |\n",
      "| francès  | 0.77299 |  0.7438  |   0.0   | 1.76564 | 1.26313 | 0.57457 |\n",
      "|  italià  | 0.89177 | 1.03374  | 1.76564 |   0.0   | 1.89011 | 1.80524 |\n",
      "|  anglès  | 1.39986 | 1.04252  | 1.26313 | 1.89011 |   0.0   | 0.82555 |\n",
      "| alemany  | 0.75106 | 0.68671  | 0.57457 | 1.80524 | 0.82555 |   0.0   |\n",
      "+----------+---------+----------+---------+---------+---------+---------+\n"
     ]
    }
   ],
   "source": [
    "taula = PrettyTable()\n",
    "taula.field_names = [\" \"] + [idioma(x) for x in txt]\n",
    "for x in txt:\n",
    "    taula.add_row([idioma(x)] + [compara(x,y,distH) for y in txt])\n",
    "print(taula)\n",
    "taula = PrettyTable()\n",
    "taula.field_names = [\" \"] + [idioma(x) for x in txt]\n",
    "for x in txt:\n",
    "    taula.add_row([idioma(x)] + [compara(x,y,distH_ord) for y in txt])\n",
    "print(taula)"
   ]
  },
  {
   "cell_type": "markdown",
   "metadata": {},
   "source": [
    "<h2 align=\"center\">Creació de text artificial amb les propietats estocàstiques d'un text donat<br></h2>"
   ]
  },
  {
   "cell_type": "markdown",
   "metadata": {},
   "source": [
    "<h4 style=\"color:red\">Exercici 2: programeu una funció crea_text que fabrica text artificial de tal manera que els blocs de mida $n$ es generen amb la probabilitat d'aquests blocs en el text. La variable $N$ indica la mida del text artificial generat.<br>\n",
    "Indicació: no és immediat; podeu fer servir la funció choices del package random.</h4>"
   ]
  },
  {
   "cell_type": "markdown",
   "metadata": {},
   "source": [
    "Funció que crea un text de mida N a partir de la cadena de Markov d'ordre n determinada pel text"
   ]
  },
  {
   "cell_type": "code",
   "execution_count": null,
   "metadata": {},
   "outputs": [],
   "source": [
    "def crea_text(txt,n,N):\n",
    "\n",
    "    return t"
   ]
  },
  {
   "cell_type": "markdown",
   "metadata": {},
   "source": [
    "Exemples:"
   ]
  },
  {
   "cell_type": "code",
   "execution_count": null,
   "metadata": {},
   "outputs": [],
   "source": [
    "[(k+1,crea_text(txt_sj,k+1,len(txt_sj))) for k in range(10)]"
   ]
  },
  {
   "cell_type": "code",
   "execution_count": null,
   "metadata": {},
   "outputs": [],
   "source": [
    "[(k+1,crea_text(txt_hr,k+1,len(txt_hr))) for k in range(10)]"
   ]
  },
  {
   "cell_type": "code",
   "execution_count": null,
   "metadata": {},
   "outputs": [],
   "source": [
    "[(k+1,crea_text(txt_ae,k+1,len(txt_ae))) for k in range(10)]"
   ]
  },
  {
   "cell_type": "markdown",
   "metadata": {},
   "source": [
    "<h2 align=\"center\">Càlcul d'entropies<br></h2>"
   ]
  },
  {
   "cell_type": "markdown",
   "metadata": {},
   "source": [
    "<h4 style=\"color:red\">Exercici 3: programeu les funcions següents per calcular entropies.<br><br>Un cop programades podeu calcular les taules dels exemples que venen a continuació. Interpreteu els resultats.<h4>"
   ]
  },
  {
   "cell_type": "markdown",
   "metadata": {},
   "source": [
    "Funcions per calcular entropies."
   ]
  },
  {
   "cell_type": "code",
   "execution_count": null,
   "metadata": {},
   "outputs": [],
   "source": [
    "def entropia(pp): # entropia d'una distribució: el paràmetre pp és una llista de nombres que sumen 1.\n",
    "\n",
    "    return H\n",
    "\n",
    "def entr(txt,n): # entropia de la variable aleatòria varX(txt,n)\n",
    "\n",
    "    return H\n",
    "    \n",
    "def cond_entr_word(txt,s,par): # entropia condicionada de la variable varZY(txt,s,par)\n",
    "\n",
    "    return H\n",
    "\n",
    "def cond_entr(txt,r,s): # entropia condicionada de la variable Z_s respecte la variable Y_r\n",
    "\n",
    "    return HZY"
   ]
  },
  {
   "cell_type": "markdown",
   "metadata": {},
   "source": [
    "Entropies per lletra de blocs de mides diferents, per als sis idiomes"
   ]
  },
  {
   "cell_type": "code",
   "execution_count": null,
   "metadata": {},
   "outputs": [],
   "source": [
    "taula = PrettyTable()\n",
    "taula.field_names = [\"mida bloc\"] + [idioma(x) for x in txt]\n",
    "for n in range(5):\n",
    "    taula.add_row([n+1] + [round(entr(x,n+1)/(n+1),5) for x in txt])\n",
    "print(taula)"
   ]
  },
  {
   "cell_type": "markdown",
   "metadata": {},
   "source": [
    "Entropia condicionada per lletre dels blocs de mides diferents després de la lletra q en els diferents idiomes"
   ]
  },
  {
   "cell_type": "code",
   "execution_count": null,
   "metadata": {},
   "outputs": [],
   "source": [
    "taula = PrettyTable()\n",
    "taula.field_names = [\"mida bloc\"] + [idioma(x) for x in txt]\n",
    "for n in range(5):\n",
    "    taula.add_row([n+1] + [round(cond_entr_word(x,n+1,\"q\")/(n+1),5) for x in txt])\n",
    "print(taula)"
   ]
  }
 ],
 "metadata": {
  "kernelspec": {
   "display_name": "Python 3",
   "language": "python",
   "name": "python3"
  },
  "language_info": {
   "codemirror_mode": {
    "name": "ipython",
    "version": 3
   },
   "file_extension": ".py",
   "mimetype": "text/x-python",
   "name": "python",
   "nbconvert_exporter": "python",
   "pygments_lexer": "ipython3",
   "version": "3.7.4"
  }
 },
 "nbformat": 4,
 "nbformat_minor": 2
}
